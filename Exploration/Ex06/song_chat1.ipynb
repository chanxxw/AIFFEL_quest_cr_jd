{
 "cells": [
  {
   "cell_type": "code",
   "execution_count": 1,
   "metadata": {},
   "outputs": [],
   "source": [
    "import pandas as pd\n",
    "\n",
    "# CSV 파일 로드\n",
    "file_path = './ChatbotData.csv'\n",
    "df = pd.read_csv(file_path) #\n",
    "questions = df['Q'].tolist()\n",
    "answers = df['A'].tolist()\n"
   ]
  },
  {
   "cell_type": "code",
   "execution_count": 2,
   "metadata": {},
   "outputs": [],
   "source": [
    "with open(\"training_texts.txt\", \"w\", encoding=\"utf-8\") as f:\n",
    "    for line in questions + answers:\n",
    "        f.write(line.strip() + \"\\n\")"
   ]
  },
  {
   "cell_type": "code",
   "execution_count": 3,
   "metadata": {},
   "outputs": [],
   "source": [
    "import sentencepiece as spm\n",
    "\n",
    "# SentencePiece 학습\n",
    "spm.SentencePieceTrainer.train(\n",
    "    input=\"training_texts.txt\",  # 학습 데이터 파일\n",
    "    model_prefix=\"chatbot_spm\",  # 생성될 모델 이름 (chatbot_spm.model, chatbot_spm.vocab)\n",
    "    vocab_size=8000,            # 서브워드 사전 크기\n",
    "    model_type=\"bpe\"            # 모델 유형 (bpe, unigram, char 등 선택 가능)\n",
    ")"
   ]
  },
  {
   "cell_type": "code",
   "execution_count": 4,
   "metadata": {},
   "outputs": [
    {
     "data": {
      "text/plain": [
       "True"
      ]
     },
     "execution_count": 4,
     "metadata": {},
     "output_type": "execute_result"
    }
   ],
   "source": [
    "import sentencepiece as spm\n",
    "\n",
    "sp = spm.SentencePieceProcessor()\n",
    "sp.load(\"chatbot_spm.model\")"
   ]
  },
  {
   "cell_type": "code",
   "execution_count": 5,
   "metadata": {},
   "outputs": [],
   "source": [
    "#데이터 전처리 인코딩\n",
    "# 질문과 답변을 토크나이즈\n",
    "encoded_questions = [sp.encode(q, out_type=int) for q in questions]\n",
    "encoded_answers = [sp.encode(a, out_type=int) for a in answers]"
   ]
  },
  {
   "cell_type": "code",
   "execution_count": 6,
   "metadata": {},
   "outputs": [],
   "source": [
    "#패딩 처리\n",
    "from tensorflow.keras.preprocessing.sequence import pad_sequences\n",
    "\n",
    "max_length = 19\n",
    "padded_questions = pad_sequences(encoded_questions, maxlen=max_length, padding=\"post\")\n",
    "padded_answers = pad_sequences(encoded_answers, maxlen=max_length, padding=\"post\")"
   ]
  },
  {
   "cell_type": "code",
   "execution_count": 7,
   "metadata": {},
   "outputs": [],
   "source": [
    "#훈련 및 테스트 데이터 분리\n",
    "from sklearn.model_selection import train_test_split\n",
    "\n",
    "X_train, X_test, y_train, y_test = train_test_split(\n",
    "    padded_questions, padded_answers, test_size=0.2, random_state=42\n",
    ")"
   ]
  },
  {
   "cell_type": "code",
   "execution_count": 8,
   "metadata": {},
   "outputs": [],
   "source": [
    "#타겟 데이터 준비\n",
    "decoder_input_data = y_train[:, :-1]  # 끝에서 한 단계 잘라냄\n",
    "decoder_output_data = y_train[:, 1:]  # 시작에서 한 단계 잘라냄"
   ]
  },
  {
   "cell_type": "code",
   "execution_count": 9,
   "metadata": {},
   "outputs": [],
   "source": [
    "#데이터 전처리\n",
    "max_length = 19\n",
    "decoder_input_data = pad_sequences(decoder_input_data, maxlen=max_length - 1, padding='post')  # 마지막 길이 조정\n",
    "decoder_output_data = pad_sequences(decoder_output_data, maxlen=max_length - 1, padding='post')  # 타겟 길이 맞춤"
   ]
  },
  {
   "cell_type": "code",
   "execution_count": 10,
   "metadata": {},
   "outputs": [
    {
     "name": "stdout",
     "output_type": "stream",
     "text": [
      "X_train shape: (9458, 19)\n",
      "decoder_input_data shape: (9458, 18)\n",
      "decoder_output_data shape: (9458, 18)\n"
     ]
    }
   ],
   "source": [
    "print(\"X_train shape:\", X_train.shape)\n",
    "print(\"decoder_input_data shape:\", decoder_input_data.shape)\n",
    "print(\"decoder_output_data shape:\", decoder_output_data.shape)\n"
   ]
  },
  {
   "cell_type": "code",
   "execution_count": 11,
   "metadata": {},
   "outputs": [
    {
     "name": "stdout",
     "output_type": "stream",
     "text": [
      "Model output shape: (None, 18, 8000)\n"
     ]
    }
   ],
   "source": [
    "#모델 정의\n",
    "import tensorflow as tf\n",
    "from tensorflow.keras import layers\n",
    "\n",
    "vocab_size = 8000  # SentencePiece의 단어 수와 동일\n",
    "\n",
    "# Encoder\n",
    "encoder_input = layers.Input(shape=(max_length,))  # Encoder 입력 길이\n",
    "encoder_embedding = layers.Embedding(vocab_size, 256)(encoder_input)\n",
    "encoder_output, state_h, state_c = layers.LSTM(256, return_state=True)(encoder_embedding)\n",
    "\n",
    "# Decoder\n",
    "decoder_input = layers.Input(shape=(max_length - 1,))  # Decoder 입력 길이\n",
    "decoder_embedding = layers.Embedding(vocab_size, 256)(decoder_input)\n",
    "decoder_lstm = layers.LSTM(256, return_sequences=True, return_state=True)\n",
    "decoder_output, _, _ = decoder_lstm(decoder_embedding, initial_state=[state_h, state_c])\n",
    "decoder_dense = layers.Dense(vocab_size, activation=\"softmax\")\n",
    "decoder_output = decoder_dense(decoder_output)\n",
    "\n",
    "# Seq2Seq 모델\n",
    "model = tf.keras.Model([encoder_input, decoder_input], decoder_output)\n",
    "model.compile(optimizer=\"adam\", loss=\"sparse_categorical_crossentropy\", metrics=[\"accuracy\"])\n",
    "\n",
    "print(\"Model output shape:\", model.output_shape)"
   ]
  },
  {
   "cell_type": "code",
   "execution_count": 12,
   "metadata": {},
   "outputs": [
    {
     "name": "stdout",
     "output_type": "stream",
     "text": [
      "Epoch 1/50\n"
     ]
    },
    {
     "name": "stderr",
     "output_type": "stream",
     "text": [
      "c:\\Users\\envym\\AppData\\Local\\Programs\\Python\\Python312\\Lib\\site-packages\\keras\\src\\models\\functional.py:225: UserWarning: The structure of `inputs` doesn't match the expected structure: ['keras_tensor', 'keras_tensor_5']. Received: the structure of inputs=('*', '*')\n",
      "  warnings.warn(\n"
     ]
    },
    {
     "name": "stdout",
     "output_type": "stream",
     "text": [
      "\u001b[1m119/119\u001b[0m \u001b[32m━━━━━━━━━━━━━━━━━━━━\u001b[0m\u001b[37m\u001b[0m \u001b[1m46s\u001b[0m 364ms/step - accuracy: 0.7125 - loss: 4.0141 - val_accuracy: 0.7866 - val_loss: 1.7582\n",
      "Epoch 2/50\n",
      "\u001b[1m119/119\u001b[0m \u001b[32m━━━━━━━━━━━━━━━━━━━━\u001b[0m\u001b[37m\u001b[0m \u001b[1m43s\u001b[0m 363ms/step - accuracy: 0.7858 - loss: 1.7065 - val_accuracy: 0.7880 - val_loss: 1.6798\n",
      "Epoch 3/50\n",
      "\u001b[1m119/119\u001b[0m \u001b[32m━━━━━━━━━━━━━━━━━━━━\u001b[0m\u001b[37m\u001b[0m \u001b[1m46s\u001b[0m 383ms/step - accuracy: 0.7877 - loss: 1.6188 - val_accuracy: 0.7883 - val_loss: 1.6369\n",
      "Epoch 4/50\n",
      "\u001b[1m119/119\u001b[0m \u001b[32m━━━━━━━━━━━━━━━━━━━━\u001b[0m\u001b[37m\u001b[0m \u001b[1m49s\u001b[0m 413ms/step - accuracy: 0.7913 - loss: 1.5418 - val_accuracy: 0.7897 - val_loss: 1.6112\n",
      "Epoch 5/50\n",
      "\u001b[1m119/119\u001b[0m \u001b[32m━━━━━━━━━━━━━━━━━━━━\u001b[0m\u001b[37m\u001b[0m \u001b[1m45s\u001b[0m 380ms/step - accuracy: 0.7914 - loss: 1.5196 - val_accuracy: 0.7933 - val_loss: 1.5937\n",
      "Epoch 6/50\n",
      "\u001b[1m119/119\u001b[0m \u001b[32m━━━━━━━━━━━━━━━━━━━━\u001b[0m\u001b[37m\u001b[0m \u001b[1m45s\u001b[0m 381ms/step - accuracy: 0.7954 - loss: 1.4819 - val_accuracy: 0.7956 - val_loss: 1.5766\n",
      "Epoch 7/50\n",
      "\u001b[1m119/119\u001b[0m \u001b[32m━━━━━━━━━━━━━━━━━━━━\u001b[0m\u001b[37m\u001b[0m \u001b[1m46s\u001b[0m 384ms/step - accuracy: 0.7996 - loss: 1.4330 - val_accuracy: 0.7976 - val_loss: 1.5601\n",
      "Epoch 8/50\n",
      "\u001b[1m119/119\u001b[0m \u001b[32m━━━━━━━━━━━━━━━━━━━━\u001b[0m\u001b[37m\u001b[0m \u001b[1m46s\u001b[0m 389ms/step - accuracy: 0.8003 - loss: 1.4093 - val_accuracy: 0.7989 - val_loss: 1.5450\n",
      "Epoch 9/50\n",
      "\u001b[1m119/119\u001b[0m \u001b[32m━━━━━━━━━━━━━━━━━━━━\u001b[0m\u001b[37m\u001b[0m \u001b[1m46s\u001b[0m 388ms/step - accuracy: 0.8025 - loss: 1.3736 - val_accuracy: 0.8003 - val_loss: 1.5315\n",
      "Epoch 10/50\n",
      "\u001b[1m119/119\u001b[0m \u001b[32m━━━━━━━━━━━━━━━━━━━━\u001b[0m\u001b[37m\u001b[0m \u001b[1m46s\u001b[0m 388ms/step - accuracy: 0.8051 - loss: 1.3331 - val_accuracy: 0.8014 - val_loss: 1.5153\n",
      "Epoch 11/50\n",
      "\u001b[1m119/119\u001b[0m \u001b[32m━━━━━━━━━━━━━━━━━━━━\u001b[0m\u001b[37m\u001b[0m \u001b[1m46s\u001b[0m 388ms/step - accuracy: 0.8071 - loss: 1.2975 - val_accuracy: 0.8031 - val_loss: 1.5006\n",
      "Epoch 12/50\n",
      "\u001b[1m119/119\u001b[0m \u001b[32m━━━━━━━━━━━━━━━━━━━━\u001b[0m\u001b[37m\u001b[0m \u001b[1m45s\u001b[0m 381ms/step - accuracy: 0.8106 - loss: 1.2488 - val_accuracy: 0.8044 - val_loss: 1.4822\n",
      "Epoch 13/50\n",
      "\u001b[1m119/119\u001b[0m \u001b[32m━━━━━━━━━━━━━━━━━━━━\u001b[0m\u001b[37m\u001b[0m \u001b[1m46s\u001b[0m 383ms/step - accuracy: 0.8112 - loss: 1.2238 - val_accuracy: 0.8059 - val_loss: 1.4707\n",
      "Epoch 14/50\n",
      "\u001b[1m119/119\u001b[0m \u001b[32m━━━━━━━━━━━━━━━━━━━━\u001b[0m\u001b[37m\u001b[0m \u001b[1m46s\u001b[0m 383ms/step - accuracy: 0.8171 - loss: 1.1568 - val_accuracy: 0.8083 - val_loss: 1.4525\n",
      "Epoch 15/50\n",
      "\u001b[1m119/119\u001b[0m \u001b[32m━━━━━━━━━━━━━━━━━━━━\u001b[0m\u001b[37m\u001b[0m \u001b[1m45s\u001b[0m 382ms/step - accuracy: 0.8260 - loss: 1.0842 - val_accuracy: 0.8099 - val_loss: 1.4403\n",
      "Epoch 16/50\n",
      "\u001b[1m119/119\u001b[0m \u001b[32m━━━━━━━━━━━━━━━━━━━━\u001b[0m\u001b[37m\u001b[0m \u001b[1m43s\u001b[0m 361ms/step - accuracy: 0.8280 - loss: 1.0493 - val_accuracy: 0.8116 - val_loss: 1.4251\n",
      "Epoch 17/50\n",
      "\u001b[1m119/119\u001b[0m \u001b[32m━━━━━━━━━━━━━━━━━━━━\u001b[0m\u001b[37m\u001b[0m \u001b[1m42s\u001b[0m 350ms/step - accuracy: 0.8332 - loss: 1.0008 - val_accuracy: 0.8140 - val_loss: 1.4131\n",
      "Epoch 18/50\n",
      "\u001b[1m119/119\u001b[0m \u001b[32m━━━━━━━━━━━━━━━━━━━━\u001b[0m\u001b[37m\u001b[0m \u001b[1m41s\u001b[0m 348ms/step - accuracy: 0.8401 - loss: 0.9465 - val_accuracy: 0.8160 - val_loss: 1.4036\n",
      "Epoch 19/50\n",
      "\u001b[1m119/119\u001b[0m \u001b[32m━━━━━━━━━━━━━━━━━━━━\u001b[0m\u001b[37m\u001b[0m \u001b[1m41s\u001b[0m 347ms/step - accuracy: 0.8442 - loss: 0.9149 - val_accuracy: 0.8176 - val_loss: 1.3925\n",
      "Epoch 20/50\n",
      "\u001b[1m119/119\u001b[0m \u001b[32m━━━━━━━━━━━━━━━━━━━━\u001b[0m\u001b[37m\u001b[0m \u001b[1m42s\u001b[0m 349ms/step - accuracy: 0.8518 - loss: 0.8515 - val_accuracy: 0.8192 - val_loss: 1.3864\n",
      "Epoch 21/50\n",
      "\u001b[1m119/119\u001b[0m \u001b[32m━━━━━━━━━━━━━━━━━━━━\u001b[0m\u001b[37m\u001b[0m \u001b[1m41s\u001b[0m 348ms/step - accuracy: 0.8573 - loss: 0.8149 - val_accuracy: 0.8214 - val_loss: 1.3745\n",
      "Epoch 22/50\n",
      "\u001b[1m119/119\u001b[0m \u001b[32m━━━━━━━━━━━━━━━━━━━━\u001b[0m\u001b[37m\u001b[0m \u001b[1m42s\u001b[0m 353ms/step - accuracy: 0.8671 - loss: 0.7596 - val_accuracy: 0.8239 - val_loss: 1.3701\n",
      "Epoch 23/50\n",
      "\u001b[1m119/119\u001b[0m \u001b[32m━━━━━━━━━━━━━━━━━━━━\u001b[0m\u001b[37m\u001b[0m \u001b[1m41s\u001b[0m 344ms/step - accuracy: 0.8751 - loss: 0.7149 - val_accuracy: 0.8258 - val_loss: 1.3646\n",
      "Epoch 24/50\n",
      "\u001b[1m119/119\u001b[0m \u001b[32m━━━━━━━━━━━━━━━━━━━━\u001b[0m\u001b[37m\u001b[0m \u001b[1m41s\u001b[0m 342ms/step - accuracy: 0.8815 - loss: 0.6766 - val_accuracy: 0.8273 - val_loss: 1.3624\n",
      "Epoch 25/50\n",
      "\u001b[1m119/119\u001b[0m \u001b[32m━━━━━━━━━━━━━━━━━━━━\u001b[0m\u001b[37m\u001b[0m \u001b[1m41s\u001b[0m 342ms/step - accuracy: 0.8886 - loss: 0.6276 - val_accuracy: 0.8299 - val_loss: 1.3552\n",
      "Epoch 26/50\n",
      "\u001b[1m119/119\u001b[0m \u001b[32m━━━━━━━━━━━━━━━━━━━━\u001b[0m\u001b[37m\u001b[0m \u001b[1m40s\u001b[0m 340ms/step - accuracy: 0.8982 - loss: 0.5754 - val_accuracy: 0.8325 - val_loss: 1.3524\n",
      "Epoch 27/50\n",
      "\u001b[1m119/119\u001b[0m \u001b[32m━━━━━━━━━━━━━━━━━━━━\u001b[0m\u001b[37m\u001b[0m \u001b[1m41s\u001b[0m 340ms/step - accuracy: 0.9032 - loss: 0.5468 - val_accuracy: 0.8337 - val_loss: 1.3488\n",
      "Epoch 28/50\n",
      "\u001b[1m119/119\u001b[0m \u001b[32m━━━━━━━━━━━━━━━━━━━━\u001b[0m\u001b[37m\u001b[0m \u001b[1m40s\u001b[0m 339ms/step - accuracy: 0.9119 - loss: 0.5015 - val_accuracy: 0.8369 - val_loss: 1.3468\n",
      "Epoch 29/50\n",
      "\u001b[1m119/119\u001b[0m \u001b[32m━━━━━━━━━━━━━━━━━━━━\u001b[0m\u001b[37m\u001b[0m \u001b[1m41s\u001b[0m 341ms/step - accuracy: 0.9170 - loss: 0.4733 - val_accuracy: 0.8386 - val_loss: 1.3465\n",
      "Epoch 30/50\n",
      "\u001b[1m119/119\u001b[0m \u001b[32m━━━━━━━━━━━━━━━━━━━━\u001b[0m\u001b[37m\u001b[0m \u001b[1m40s\u001b[0m 339ms/step - accuracy: 0.9234 - loss: 0.4417 - val_accuracy: 0.8411 - val_loss: 1.3462\n",
      "Epoch 31/50\n",
      "\u001b[1m119/119\u001b[0m \u001b[32m━━━━━━━━━━━━━━━━━━━━\u001b[0m\u001b[37m\u001b[0m \u001b[1m40s\u001b[0m 340ms/step - accuracy: 0.9292 - loss: 0.4088 - val_accuracy: 0.8418 - val_loss: 1.3491\n",
      "Epoch 32/50\n",
      "\u001b[1m119/119\u001b[0m \u001b[32m━━━━━━━━━━━━━━━━━━━━\u001b[0m\u001b[37m\u001b[0m \u001b[1m40s\u001b[0m 340ms/step - accuracy: 0.9344 - loss: 0.3771 - val_accuracy: 0.8436 - val_loss: 1.3482\n",
      "Epoch 33/50\n",
      "\u001b[1m119/119\u001b[0m \u001b[32m━━━━━━━━━━━━━━━━━━━━\u001b[0m\u001b[37m\u001b[0m \u001b[1m41s\u001b[0m 344ms/step - accuracy: 0.9386 - loss: 0.3512 - val_accuracy: 0.8447 - val_loss: 1.3530\n",
      "Epoch 34/50\n",
      "\u001b[1m119/119\u001b[0m \u001b[32m━━━━━━━━━━━━━━━━━━━━\u001b[0m\u001b[37m\u001b[0m \u001b[1m41s\u001b[0m 347ms/step - accuracy: 0.9433 - loss: 0.3263 - val_accuracy: 0.8463 - val_loss: 1.3540\n",
      "Epoch 35/50\n",
      "\u001b[1m119/119\u001b[0m \u001b[32m━━━━━━━━━━━━━━━━━━━━\u001b[0m\u001b[37m\u001b[0m \u001b[1m41s\u001b[0m 347ms/step - accuracy: 0.9456 - loss: 0.3098 - val_accuracy: 0.8470 - val_loss: 1.3613\n",
      "Epoch 36/50\n",
      "\u001b[1m119/119\u001b[0m \u001b[32m━━━━━━━━━━━━━━━━━━━━\u001b[0m\u001b[37m\u001b[0m \u001b[1m41s\u001b[0m 347ms/step - accuracy: 0.9501 - loss: 0.2887 - val_accuracy: 0.8480 - val_loss: 1.3649\n",
      "Epoch 37/50\n",
      "\u001b[1m119/119\u001b[0m \u001b[32m━━━━━━━━━━━━━━━━━━━━\u001b[0m\u001b[37m\u001b[0m \u001b[1m41s\u001b[0m 347ms/step - accuracy: 0.9546 - loss: 0.2636 - val_accuracy: 0.8490 - val_loss: 1.3661\n",
      "Epoch 38/50\n",
      "\u001b[1m119/119\u001b[0m \u001b[32m━━━━━━━━━━━━━━━━━━━━\u001b[0m\u001b[37m\u001b[0m \u001b[1m41s\u001b[0m 346ms/step - accuracy: 0.9574 - loss: 0.2457 - val_accuracy: 0.8498 - val_loss: 1.3727\n",
      "Epoch 39/50\n",
      "\u001b[1m119/119\u001b[0m \u001b[32m━━━━━━━━━━━━━━━━━━━━\u001b[0m\u001b[37m\u001b[0m \u001b[1m42s\u001b[0m 352ms/step - accuracy: 0.9589 - loss: 0.2357 - val_accuracy: 0.8505 - val_loss: 1.3806\n",
      "Epoch 40/50\n",
      "\u001b[1m119/119\u001b[0m \u001b[32m━━━━━━━━━━━━━━━━━━━━\u001b[0m\u001b[37m\u001b[0m \u001b[1m44s\u001b[0m 370ms/step - accuracy: 0.9624 - loss: 0.2157 - val_accuracy: 0.8508 - val_loss: 1.3871\n",
      "Epoch 41/50\n",
      "\u001b[1m119/119\u001b[0m \u001b[32m━━━━━━━━━━━━━━━━━━━━\u001b[0m\u001b[37m\u001b[0m \u001b[1m44s\u001b[0m 372ms/step - accuracy: 0.9639 - loss: 0.2052 - val_accuracy: 0.8512 - val_loss: 1.3931\n",
      "Epoch 42/50\n",
      "\u001b[1m119/119\u001b[0m \u001b[32m━━━━━━━━━━━━━━━━━━━━\u001b[0m\u001b[37m\u001b[0m \u001b[1m44s\u001b[0m 367ms/step - accuracy: 0.9664 - loss: 0.1893 - val_accuracy: 0.8510 - val_loss: 1.4020\n",
      "Epoch 43/50\n",
      "\u001b[1m119/119\u001b[0m \u001b[32m━━━━━━━━━━━━━━━━━━━━\u001b[0m\u001b[37m\u001b[0m \u001b[1m44s\u001b[0m 368ms/step - accuracy: 0.9681 - loss: 0.1798 - val_accuracy: 0.8529 - val_loss: 1.4062\n",
      "Epoch 44/50\n",
      "\u001b[1m119/119\u001b[0m \u001b[32m━━━━━━━━━━━━━━━━━━━━\u001b[0m\u001b[37m\u001b[0m \u001b[1m43s\u001b[0m 361ms/step - accuracy: 0.9712 - loss: 0.1664 - val_accuracy: 0.8525 - val_loss: 1.4134\n",
      "Epoch 45/50\n",
      "\u001b[1m119/119\u001b[0m \u001b[32m━━━━━━━━━━━━━━━━━━━━\u001b[0m\u001b[37m\u001b[0m \u001b[1m42s\u001b[0m 354ms/step - accuracy: 0.9729 - loss: 0.1546 - val_accuracy: 0.8529 - val_loss: 1.4232\n",
      "Epoch 46/50\n",
      "\u001b[1m119/119\u001b[0m \u001b[32m━━━━━━━━━━━━━━━━━━━━\u001b[0m\u001b[37m\u001b[0m \u001b[1m42s\u001b[0m 353ms/step - accuracy: 0.9746 - loss: 0.1440 - val_accuracy: 0.8530 - val_loss: 1.4303\n",
      "Epoch 47/50\n",
      "\u001b[1m119/119\u001b[0m \u001b[32m━━━━━━━━━━━━━━━━━━━━\u001b[0m\u001b[37m\u001b[0m \u001b[1m42s\u001b[0m 354ms/step - accuracy: 0.9759 - loss: 0.1369 - val_accuracy: 0.8530 - val_loss: 1.4374\n",
      "Epoch 48/50\n",
      "\u001b[1m119/119\u001b[0m \u001b[32m━━━━━━━━━━━━━━━━━━━━\u001b[0m\u001b[37m\u001b[0m \u001b[1m42s\u001b[0m 354ms/step - accuracy: 0.9765 - loss: 0.1290 - val_accuracy: 0.8532 - val_loss: 1.4465\n",
      "Epoch 49/50\n",
      "\u001b[1m119/119\u001b[0m \u001b[32m━━━━━━━━━━━━━━━━━━━━\u001b[0m\u001b[37m\u001b[0m \u001b[1m42s\u001b[0m 355ms/step - accuracy: 0.9775 - loss: 0.1230 - val_accuracy: 0.8528 - val_loss: 1.4540\n",
      "Epoch 50/50\n",
      "\u001b[1m119/119\u001b[0m \u001b[32m━━━━━━━━━━━━━━━━━━━━\u001b[0m\u001b[37m\u001b[0m \u001b[1m42s\u001b[0m 357ms/step - accuracy: 0.9794 - loss: 0.1142 - val_accuracy: 0.8541 - val_loss: 1.4601\n"
     ]
    }
   ],
   "source": [
    "# 모델 학습\n",
    "history = model.fit(\n",
    "    [X_train, decoder_input_data],\n",
    "    decoder_output_data,\n",
    "    batch_size=64,\n",
    "    epochs=50,\n",
    "    validation_split=0.2\n",
    ")"
   ]
  },
  {
   "cell_type": "code",
   "execution_count": 13,
   "metadata": {},
   "outputs": [
    {
     "name": "stdout",
     "output_type": "stream",
     "text": [
      "\u001b[1m74/74\u001b[0m \u001b[32m━━━━━━━━━━━━━━━━━━━━\u001b[0m\u001b[37m\u001b[0m \u001b[1m3s\u001b[0m 45ms/step - accuracy: 0.8580 - loss: 1.3954\n",
      "Test Loss: 1.433877944946289\n",
      "Test Accuracy: 0.8556025624275208\n"
     ]
    }
   ],
   "source": [
    "#모델 평가\n",
    "# decoder_input_test와 decoder_output_test 준비\n",
    "decoder_input_test = y_test[:, :-1]  # 마지막 토큰 제거\n",
    "decoder_output_test = y_test[:, 1:]  # 첫 번째 토큰 제거\n",
    "\n",
    "# 모델 평가\n",
    "loss, accuracy = model.evaluate(\n",
    "    [X_test, decoder_input_test],\n",
    "    decoder_output_test\n",
    ")\n",
    "\n",
    "print(f\"Test Loss: {loss}\")\n",
    "print(f\"Test Accuracy: {accuracy}\")"
   ]
  },
  {
   "cell_type": "code",
   "execution_count": 14,
   "metadata": {},
   "outputs": [
    {
     "name": "stdout",
     "output_type": "stream",
     "text": [
      "\u001b[1m1/1\u001b[0m \u001b[32m━━━━━━━━━━━━━━━━━━━━\u001b[0m\u001b[37m\u001b[0m \u001b[1m0s\u001b[0m 220ms/step\n",
      "Predicted text: 사람이네요 하지 마세요. ⁇  ⁇  ⁇  ⁇  ⁇  ⁇  ⁇  ⁇  ⁇  ⁇  ⁇  ⁇  ⁇  ⁇ \n"
     ]
    }
   ],
   "source": [
    "#테스트 데이터 예측\n",
    "# 테스트 데이터 샘플\n",
    "sample_input = X_test[:1]  # 테스트 데이터의 첫 번째 문장\n",
    "sample_decoder_input = decoder_input_test[:1]  # 대응하는 decoder_input\n",
    "\n",
    "# 예측 수행\n",
    "predicted_output = model.predict([sample_input, sample_decoder_input])\n",
    "\n",
    "# 예측된 시퀀스 변환 (가장 높은 확률의 토큰 선택)\n",
    "predicted_sequence = predicted_output.argmax(axis=-1)\n",
    "\n",
    "# SentencePiece 디코더로 디코딩\n",
    "predicted_text = sp.decode(predicted_sequence[0].tolist())\n",
    "print(\"Predicted text:\", predicted_text)"
   ]
  },
  {
   "cell_type": "code",
   "execution_count": 15,
   "metadata": {},
   "outputs": [
    {
     "name": "stdout",
     "output_type": "stream",
     "text": [
      "Input: 죽을거 같네 ⁇  ⁇  ⁇  ⁇  ⁇  ⁇  ⁇  ⁇  ⁇  ⁇  ⁇  ⁇  ⁇  ⁇  ⁇  ⁇ \n",
      "Target: 나쁜 생각 하지 마세요. ⁇  ⁇  ⁇  ⁇  ⁇  ⁇  ⁇  ⁇  ⁇  ⁇  ⁇  ⁇  ⁇  ⁇ \n",
      "Predicted: 사람이네요 하지 마세요. ⁇  ⁇  ⁇  ⁇  ⁇  ⁇  ⁇  ⁇  ⁇  ⁇  ⁇  ⁇  ⁇  ⁇ \n"
     ]
    }
   ],
   "source": [
    "#예측 결과와 타겟 비교\n",
    "# 타겟 텍스트 디코딩\n",
    "target_text = sp.decode(y_test[0].tolist())  # 실제 타겟 시퀀스 디코딩\n",
    "\n",
    "print(f\"Input: {sp.decode(X_test[0].tolist())}\")\n",
    "print(f\"Target: {target_text}\")\n",
    "print(f\"Predicted: {predicted_text}\")"
   ]
  },
  {
   "cell_type": "code",
   "execution_count": 16,
   "metadata": {},
   "outputs": [
    {
     "name": "stdout",
     "output_type": "stream",
     "text": [
      "BLEU Score: 0.8817122476287481\n"
     ]
    }
   ],
   "source": [
    "#BLUE 스코어 계산\n",
    "from nltk.translate.bleu_score import sentence_bleu\n",
    "\n",
    "# BLEU 스코어 계산\n",
    "reference = [target_text.split()]  # 실제 타겟 텍스트\n",
    "candidate = predicted_text.split()  # 예측된 텍스트\n",
    "bleu_score = sentence_bleu(reference, candidate)\n",
    "\n",
    "print(f\"BLEU Score: {bleu_score}\")"
   ]
  },
  {
   "cell_type": "code",
   "execution_count": 17,
   "metadata": {},
   "outputs": [
    {
     "name": "stdout",
     "output_type": "stream",
     "text": [
      "\u001b[1m1/1\u001b[0m \u001b[32m━━━━━━━━━━━━━━━━━━━━\u001b[0m\u001b[37m\u001b[0m \u001b[1m0s\u001b[0m 23ms/step\n",
      "Input: 죽을거 같네 ⁇  ⁇  ⁇  ⁇  ⁇  ⁇  ⁇  ⁇  ⁇  ⁇  ⁇  ⁇  ⁇  ⁇  ⁇  ⁇ \n",
      "Target: 나쁜 생각 하지 마세요. ⁇  ⁇  ⁇  ⁇  ⁇  ⁇  ⁇  ⁇  ⁇  ⁇  ⁇  ⁇  ⁇  ⁇ \n",
      "Predicted: 사람이네요 하지 마세요. ⁇  ⁇  ⁇  ⁇  ⁇  ⁇  ⁇  ⁇  ⁇  ⁇  ⁇  ⁇  ⁇  ⁇ \n",
      "------------------------------\n",
      "\u001b[1m1/1\u001b[0m \u001b[32m━━━━━━━━━━━━━━━━━━━━\u001b[0m\u001b[37m\u001b[0m \u001b[1m0s\u001b[0m 24ms/step\n",
      "Input: 내일 시험이야 ⁇  ⁇  ⁇  ⁇  ⁇  ⁇  ⁇  ⁇  ⁇  ⁇  ⁇  ⁇  ⁇  ⁇  ⁇  ⁇ \n",
      "Target: 컨디션 조절 하세요. ⁇  ⁇  ⁇  ⁇  ⁇  ⁇  ⁇  ⁇  ⁇  ⁇  ⁇  ⁇  ⁇  ⁇  ⁇ \n",
      "Predicted: 조절은. ⁇  ⁇  ⁇  ⁇  ⁇  ⁇  ⁇  ⁇  ⁇  ⁇  ⁇  ⁇  ⁇  ⁇  ⁇ \n",
      "------------------------------\n",
      "\u001b[1m1/1\u001b[0m \u001b[32m━━━━━━━━━━━━━━━━━━━━\u001b[0m\u001b[37m\u001b[0m \u001b[1m0s\u001b[0m 21ms/step\n",
      "Input: 정말.내 자신이 싫다 ⁇  ⁇  ⁇  ⁇  ⁇  ⁇  ⁇  ⁇  ⁇  ⁇  ⁇  ⁇  ⁇  ⁇ \n",
      "Target: 자신은 사랑해주세요. ⁇  ⁇  ⁇  ⁇  ⁇  ⁇  ⁇  ⁇  ⁇  ⁇  ⁇  ⁇  ⁇  ⁇  ⁇  ⁇ \n",
      "Predicted: 원망. ⁇  ⁇  ⁇  ⁇  ⁇  ⁇  ⁇  ⁇  ⁇  ⁇  ⁇  ⁇  ⁇  ⁇  ⁇  ⁇ \n",
      "------------------------------\n",
      "\u001b[1m1/1\u001b[0m \u001b[32m━━━━━━━━━━━━━━━━━━━━\u001b[0m\u001b[37m\u001b[0m \u001b[1m0s\u001b[0m 22ms/step\n",
      "Input: 이별후 네달째 ⁇  ⁇  ⁇  ⁇  ⁇  ⁇  ⁇  ⁇  ⁇  ⁇  ⁇  ⁇  ⁇  ⁇  ⁇  ⁇ \n",
      "Target: 바쁘게 살면서 잊어가요. ⁇  ⁇  ⁇  ⁇  ⁇  ⁇  ⁇  ⁇  ⁇  ⁇  ⁇  ⁇  ⁇  ⁇ \n",
      "Predicted: 지냈 사세요가요. ⁇  ⁇  ⁇  ⁇  ⁇  ⁇  ⁇  ⁇  ⁇  ⁇  ⁇  ⁇  ⁇  ⁇ \n",
      "------------------------------\n",
      "\u001b[1m1/1\u001b[0m \u001b[32m━━━━━━━━━━━━━━━━━━━━\u001b[0m\u001b[37m\u001b[0m \u001b[1m0s\u001b[0m 22ms/step\n",
      "Input: 쌍커풀 해볼까 ⁇  ⁇  ⁇  ⁇  ⁇  ⁇  ⁇  ⁇  ⁇  ⁇  ⁇  ⁇  ⁇  ⁇  ⁇ \n",
      "Target: 눈은 기본이죠. ⁇  ⁇  ⁇  ⁇  ⁇  ⁇  ⁇  ⁇  ⁇  ⁇  ⁇  ⁇  ⁇  ⁇  ⁇  ⁇ \n",
      "Predicted: 서. ⁇  ⁇  ⁇  ⁇  ⁇  ⁇  ⁇  ⁇  ⁇  ⁇  ⁇  ⁇  ⁇  ⁇  ⁇  ⁇ \n",
      "------------------------------\n"
     ]
    }
   ],
   "source": [
    "#예측 결과 시각화\n",
    "# 테스트 데이터에서 샘플 몇 개 출력\n",
    "num_samples = 5\n",
    "for i in range(num_samples):\n",
    "    input_text = sp.decode(X_test[i].tolist())  # 입력 문장\n",
    "    target_text = sp.decode(y_test[i].tolist())  # 실제 타겟 문장\n",
    "    predicted_sequence = model.predict([X_test[i:i+1], decoder_input_test[i:i+1]]).argmax(axis=-1)\n",
    "    predicted_text = sp.decode(predicted_sequence[0].tolist())  # 예측된 문장\n",
    "\n",
    "    print(f\"Input: {input_text}\")\n",
    "    print(f\"Target: {target_text}\")\n",
    "    print(f\"Predicted: {predicted_text}\")\n",
    "    print(\"-\" * 30)"
   ]
  }
 ],
 "metadata": {
  "kernelspec": {
   "display_name": "Python 3",
   "language": "python",
   "name": "python3"
  },
  "language_info": {
   "codemirror_mode": {
    "name": "ipython",
    "version": 3
   },
   "file_extension": ".py",
   "mimetype": "text/x-python",
   "name": "python",
   "nbconvert_exporter": "python",
   "pygments_lexer": "ipython3",
   "version": "3.12.4"
  }
 },
 "nbformat": 4,
 "nbformat_minor": 2
}
